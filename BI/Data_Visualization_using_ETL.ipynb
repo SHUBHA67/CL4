{
 "cells": [
  {
   "cell_type": "markdown",
   "id": "98a3f68b-a1f1-4e71-bcdb-c08053faf09f",
   "metadata": {
    "id": "98a3f68b-a1f1-4e71-bcdb-c08053faf09f"
   },
   "source": [
    "# Problem Statement\n",
    "* Data Visualization from Extraction Transformation and Loading (ETL) Process"
   ]
  },
  {
   "cell_type": "markdown",
   "id": "d60eaf3f-ac20-4ba9-bd4a-df856ab2d46e",
   "metadata": {
    "id": "d60eaf3f-ac20-4ba9-bd4a-df856ab2d46e"
   },
   "source": [
    "## 1. Extract\n",
    "> process of retrieving raw data from various source systems"
   ]
  },
  {
   "cell_type": "code",
   "execution_count": 17,
   "id": "58fad13b-fb5d-4512-9b43-138f72350cf3",
   "metadata": {
    "id": "58fad13b-fb5d-4512-9b43-138f72350cf3"
   },
   "outputs": [],
   "source": [
    "import pandas as pd\n",
    "\n",
    "oracle_df = pd.read_csv('large_oracle_data.csv')\n",
    "sql_df = pd.read_csv('large_sql_data.csv')\n",
    "sales_df = pd.read_excel('large_sales_data.xlsx')\n",
    "\n",
    "cols = oracle_df.columns\n",
    "data = [oracle_df, sql_df, sales_df]"
   ]
  },
  {
   "cell_type": "code",
   "execution_count": 18,
   "id": "dcf7f0a8-f7bc-4461-9f9e-7dc67a9ee3c6",
   "metadata": {
    "colab": {
     "base_uri": "https://localhost:8080/"
    },
    "id": "dcf7f0a8-f7bc-4461-9f9e-7dc67a9ee3c6",
    "outputId": "3cd06b6e-0e43-4070-cdd5-ad15777a3deb"
   },
   "outputs": [
    {
     "data": {
      "text/plain": [
       "(   order_id  order_date product_category  sales\n",
       " 0      2001  2024-09-01         Clothing    961\n",
       " 1      2002  2024-09-02         Clothing    998\n",
       " 2      2003  2024-09-03         Clothing    689\n",
       " 3      2004  2024-09-04       Appliances    454\n",
       " 4      2005  2024-09-05       Appliances    508,\n",
       "    order_id  order_date product_category  sales\n",
       " 0      1001  2024-05-01       Appliances    837\n",
       " 1      1002  2024-05-02        Furniture    935\n",
       " 2      1003  2024-05-03        Furniture    309\n",
       " 3      1004  2024-05-04        Furniture    190\n",
       " 4      1005  2024-05-05             Toys    985,\n",
       "    order_id order_date product_category  sales\n",
       " 0         1 2024-01-01             Toys    743\n",
       " 1         2 2024-01-02         Clothing    333\n",
       " 2         3 2024-01-03       Appliances    607\n",
       " 3         4 2024-01-04             Toys    139\n",
       " 4         5 2024-01-05             Toys    465)"
      ]
     },
     "execution_count": 18,
     "metadata": {},
     "output_type": "execute_result"
    }
   ],
   "source": [
    "oracle_df.head(), sql_df.head(), sales_df.head()"
   ]
  },
  {
   "cell_type": "code",
   "execution_count": 19,
   "id": "1832163e-8540-4fa3-8d04-504c809ff5b3",
   "metadata": {},
   "outputs": [
    {
     "data": {
      "text/html": [
       "<div>\n",
       "<style scoped>\n",
       "    .dataframe tbody tr th:only-of-type {\n",
       "        vertical-align: middle;\n",
       "    }\n",
       "\n",
       "    .dataframe tbody tr th {\n",
       "        vertical-align: top;\n",
       "    }\n",
       "\n",
       "    .dataframe thead th {\n",
       "        text-align: right;\n",
       "    }\n",
       "</style>\n",
       "<table border=\"1\" class=\"dataframe\">\n",
       "  <thead>\n",
       "    <tr style=\"text-align: right;\">\n",
       "      <th></th>\n",
       "      <th>order_id</th>\n",
       "      <th>order_date</th>\n",
       "      <th>product_category</th>\n",
       "      <th>sales</th>\n",
       "    </tr>\n",
       "  </thead>\n",
       "  <tbody>\n",
       "    <tr>\n",
       "      <th>0</th>\n",
       "      <td>1001</td>\n",
       "      <td>2024-05-01</td>\n",
       "      <td>Appliances</td>\n",
       "      <td>837</td>\n",
       "    </tr>\n",
       "    <tr>\n",
       "      <th>1</th>\n",
       "      <td>1002</td>\n",
       "      <td>2024-05-02</td>\n",
       "      <td>Furniture</td>\n",
       "      <td>935</td>\n",
       "    </tr>\n",
       "    <tr>\n",
       "      <th>2</th>\n",
       "      <td>1003</td>\n",
       "      <td>2024-05-03</td>\n",
       "      <td>Furniture</td>\n",
       "      <td>309</td>\n",
       "    </tr>\n",
       "    <tr>\n",
       "      <th>3</th>\n",
       "      <td>1004</td>\n",
       "      <td>2024-05-04</td>\n",
       "      <td>Furniture</td>\n",
       "      <td>190</td>\n",
       "    </tr>\n",
       "    <tr>\n",
       "      <th>4</th>\n",
       "      <td>1005</td>\n",
       "      <td>2024-05-05</td>\n",
       "      <td>Toys</td>\n",
       "      <td>985</td>\n",
       "    </tr>\n",
       "  </tbody>\n",
       "</table>\n",
       "</div>"
      ],
      "text/plain": [
       "   order_id  order_date product_category  sales\n",
       "0      1001  2024-05-01       Appliances    837\n",
       "1      1002  2024-05-02        Furniture    935\n",
       "2      1003  2024-05-03        Furniture    309\n",
       "3      1004  2024-05-04        Furniture    190\n",
       "4      1005  2024-05-05             Toys    985"
      ]
     },
     "execution_count": 19,
     "metadata": {},
     "output_type": "execute_result"
    }
   ],
   "source": [
    "sql_df.head()"
   ]
  },
  {
   "cell_type": "markdown",
   "id": "6b60c8af-9355-474c-ab0c-95b9a7b96e8d",
   "metadata": {
    "id": "6b60c8af-9355-474c-ab0c-95b9a7b96e8d"
   },
   "source": [
    "## 2. Transform"
   ]
  },
  {
   "cell_type": "markdown",
   "id": "e650feaf-a1db-4e29-938f-52c3138eb3bf",
   "metadata": {
    "id": "e650feaf-a1db-4e29-938f-52c3138eb3bf"
   },
   "source": [
    "### a) Cleansing"
   ]
  },
  {
   "cell_type": "code",
   "execution_count": 20,
   "id": "9396c903-5cc8-41ac-9678-0c625b443c62",
   "metadata": {
    "colab": {
     "base_uri": "https://localhost:8080/",
     "height": 174
    },
    "id": "9396c903-5cc8-41ac-9678-0c625b443c62",
    "outputId": "e64c4e35-9e8e-4db6-f5ea-d8ae866261e2"
   },
   "outputs": [
    {
     "data": {
      "text/html": [
       "<div>\n",
       "<style scoped>\n",
       "    .dataframe tbody tr th:only-of-type {\n",
       "        vertical-align: middle;\n",
       "    }\n",
       "\n",
       "    .dataframe tbody tr th {\n",
       "        vertical-align: top;\n",
       "    }\n",
       "\n",
       "    .dataframe thead th {\n",
       "        text-align: right;\n",
       "    }\n",
       "</style>\n",
       "<table border=\"1\" class=\"dataframe\">\n",
       "  <thead>\n",
       "    <tr style=\"text-align: right;\">\n",
       "      <th></th>\n",
       "      <th>oracle_df</th>\n",
       "      <th>sql_df</th>\n",
       "      <th>sales_df</th>\n",
       "    </tr>\n",
       "  </thead>\n",
       "  <tbody>\n",
       "    <tr>\n",
       "      <th>order_id</th>\n",
       "      <td>0</td>\n",
       "      <td>0</td>\n",
       "      <td>0</td>\n",
       "    </tr>\n",
       "    <tr>\n",
       "      <th>order_date</th>\n",
       "      <td>0</td>\n",
       "      <td>0</td>\n",
       "      <td>0</td>\n",
       "    </tr>\n",
       "    <tr>\n",
       "      <th>product_category</th>\n",
       "      <td>0</td>\n",
       "      <td>0</td>\n",
       "      <td>0</td>\n",
       "    </tr>\n",
       "    <tr>\n",
       "      <th>sales</th>\n",
       "      <td>0</td>\n",
       "      <td>0</td>\n",
       "      <td>0</td>\n",
       "    </tr>\n",
       "  </tbody>\n",
       "</table>\n",
       "</div>"
      ],
      "text/plain": [
       "                  oracle_df  sql_df  sales_df\n",
       "order_id                  0       0         0\n",
       "order_date                0       0         0\n",
       "product_category          0       0         0\n",
       "sales                     0       0         0"
      ]
     },
     "execution_count": 20,
     "metadata": {},
     "output_type": "execute_result"
    }
   ],
   "source": [
    "pd.DataFrame({'oracle_df':oracle_df.isna().sum().values,\n",
    "          'sql_df':sql_df.isna().sum().values,\n",
    "          'sales_df':sales_df.isna().sum().values},index=oracle_df.columns)\n",
    "\n",
    "# No missing values or NA Values found so no cleansing required"
   ]
  },
  {
   "cell_type": "markdown",
   "id": "117378f1-c8a6-4ca5-bff9-42870a4fc761",
   "metadata": {
    "id": "117378f1-c8a6-4ca5-bff9-42870a4fc761"
   },
   "source": [
    "### b) Filtering"
   ]
  },
  {
   "cell_type": "code",
   "execution_count": 21,
   "id": "be97d2cb-abc6-47c9-a3c7-bc4ddfadb051",
   "metadata": {
    "colab": {
     "base_uri": "https://localhost:8080/"
    },
    "id": "be97d2cb-abc6-47c9-a3c7-bc4ddfadb051",
    "outputId": "64329328-3a74-483d-fb2b-a1e21156abb1"
   },
   "outputs": [
    {
     "name": "stdout",
     "output_type": "stream",
     "text": [
      "   order_date product_category  sales\n",
      "0  2024-09-01         Clothing    961\n",
      "1  2024-09-02         Clothing    998\n",
      "2  2024-09-03         Clothing    689\n",
      "3  2024-09-04       Appliances    454\n",
      "4  2024-09-05       Appliances    508 \n",
      "\n",
      "\n",
      "   order_date product_category  sales\n",
      "0  2024-05-01       Appliances    837\n",
      "1  2024-05-02        Furniture    935\n",
      "2  2024-05-03        Furniture    309\n",
      "3  2024-05-04        Furniture    190\n",
      "4  2024-05-05             Toys    985 \n",
      "\n",
      "\n",
      "  order_date product_category  sales\n",
      "0 2024-01-01             Toys    743\n",
      "1 2024-01-02         Clothing    333\n",
      "2 2024-01-03       Appliances    607\n",
      "3 2024-01-04             Toys    139\n",
      "4 2024-01-05             Toys    465 \n",
      "\n",
      "\n"
     ]
    }
   ],
   "source": [
    "for df in data:\n",
    "    df.drop('order_id',axis=1,inplace=True)\n",
    "\n",
    "for df in data:\n",
    "    print(df.head(),'\\n\\n')"
   ]
  },
  {
   "cell_type": "markdown",
   "id": "54796e74-5d8c-4857-a687-69ddc3902c06",
   "metadata": {
    "id": "54796e74-5d8c-4857-a687-69ddc3902c06"
   },
   "source": [
    "### c) Aggregating"
   ]
  },
  {
   "cell_type": "code",
   "execution_count": 22,
   "id": "0665ab96-bb41-4762-bdcc-8e3ce843f82e",
   "metadata": {
    "colab": {
     "base_uri": "https://localhost:8080/"
    },
    "id": "0665ab96-bb41-4762-bdcc-8e3ce843f82e",
    "outputId": "77fd27e5-6357-43fb-a6b2-fff6f971bafe"
   },
   "outputs": [
    {
     "name": "stdout",
     "output_type": "stream",
     "text": [
      "                   sales\n",
      "product_category        \n",
      "Appliances        108585\n",
      "Clothing          111543\n",
      "Electronics       102196\n",
      "Furniture         119501\n",
      "Toys              119428 \n",
      "\n",
      "\n",
      "                   sales\n",
      "product_category        \n",
      "Appliances        119043\n",
      "Clothing          107451\n",
      "Electronics       110935\n",
      "Furniture         109847\n",
      "Toys              114767 \n",
      "\n",
      "\n",
      "                   sales\n",
      "product_category        \n",
      "Appliances        107710\n",
      "Clothing           96096\n",
      "Electronics       100432\n",
      "Furniture         117269\n",
      "Toys              108232 \n",
      "\n",
      "\n"
     ]
    }
   ],
   "source": [
    "aggregate_data = []\n",
    "\n",
    "for df in data:\n",
    "    aggregate_data.append(df.drop('order_date',axis=1).groupby(by='product_category').sum())\n",
    "\n",
    "for df in aggregate_data:\n",
    "    print(df.head(),'\\n\\n')"
   ]
  },
  {
   "cell_type": "markdown",
   "id": "ebec78da-3f93-43eb-84a2-8c23621521cf",
   "metadata": {
    "id": "ebec78da-3f93-43eb-84a2-8c23621521cf"
   },
   "source": [
    "### d) Data type conversions"
   ]
  },
  {
   "cell_type": "code",
   "execution_count": 23,
   "id": "9082c409-0f79-4626-8669-fd91b31ebfcf",
   "metadata": {
    "colab": {
     "base_uri": "https://localhost:8080/"
    },
    "id": "9082c409-0f79-4626-8669-fd91b31ebfcf",
    "outputId": "279674c4-a61b-49b3-9cc9-64200090afc1"
   },
   "outputs": [
    {
     "name": "stdout",
     "output_type": "stream",
     "text": [
      "order_date          datetime64[ns]\n",
      "product_category            object\n",
      "sales                        int64\n",
      "dtype: object \n",
      "\n",
      "\n",
      "order_date          datetime64[ns]\n",
      "product_category            object\n",
      "sales                        int64\n",
      "dtype: object \n",
      "\n",
      "\n",
      "order_date          datetime64[ns]\n",
      "product_category            object\n",
      "sales                        int64\n",
      "dtype: object \n",
      "\n",
      "\n"
     ]
    }
   ],
   "source": [
    "for df in data:\n",
    "    df['order_date'] = df['order_date'].astype('datetime64[ns]')\n",
    "    df['sales'] = df['sales'].astype('int64')\n",
    "\n",
    "for df in data:\n",
    "    print(df.dtypes,'\\n\\n')"
   ]
  },
  {
   "cell_type": "markdown",
   "id": "da279bd2-6270-4450-a1c7-fab88907eaed",
   "metadata": {
    "id": "da279bd2-6270-4450-a1c7-fab88907eaed"
   },
   "source": [
    "### e) Joining multiple datasets"
   ]
  },
  {
   "cell_type": "code",
   "execution_count": 24,
   "id": "9f4df3e7-ff3e-4c97-95cc-91a0dd118b54",
   "metadata": {
    "colab": {
     "base_uri": "https://localhost:8080/",
     "height": 206
    },
    "id": "9f4df3e7-ff3e-4c97-95cc-91a0dd118b54",
    "outputId": "7c455a24-5382-4f59-aa20-35dee90daed5"
   },
   "outputs": [
    {
     "data": {
      "text/html": [
       "<div>\n",
       "<style scoped>\n",
       "    .dataframe tbody tr th:only-of-type {\n",
       "        vertical-align: middle;\n",
       "    }\n",
       "\n",
       "    .dataframe tbody tr th {\n",
       "        vertical-align: top;\n",
       "    }\n",
       "\n",
       "    .dataframe thead th {\n",
       "        text-align: right;\n",
       "    }\n",
       "</style>\n",
       "<table border=\"1\" class=\"dataframe\">\n",
       "  <thead>\n",
       "    <tr style=\"text-align: right;\">\n",
       "      <th></th>\n",
       "      <th>order_date</th>\n",
       "      <th>product_category</th>\n",
       "      <th>sales</th>\n",
       "    </tr>\n",
       "  </thead>\n",
       "  <tbody>\n",
       "    <tr>\n",
       "      <th>0</th>\n",
       "      <td>2024-09-01</td>\n",
       "      <td>Clothing</td>\n",
       "      <td>961</td>\n",
       "    </tr>\n",
       "    <tr>\n",
       "      <th>1</th>\n",
       "      <td>2024-09-02</td>\n",
       "      <td>Clothing</td>\n",
       "      <td>998</td>\n",
       "    </tr>\n",
       "    <tr>\n",
       "      <th>2</th>\n",
       "      <td>2024-09-03</td>\n",
       "      <td>Clothing</td>\n",
       "      <td>689</td>\n",
       "    </tr>\n",
       "    <tr>\n",
       "      <th>3</th>\n",
       "      <td>2024-09-04</td>\n",
       "      <td>Appliances</td>\n",
       "      <td>454</td>\n",
       "    </tr>\n",
       "    <tr>\n",
       "      <th>4</th>\n",
       "      <td>2024-09-05</td>\n",
       "      <td>Appliances</td>\n",
       "      <td>508</td>\n",
       "    </tr>\n",
       "  </tbody>\n",
       "</table>\n",
       "</div>"
      ],
      "text/plain": [
       "  order_date product_category  sales\n",
       "0 2024-09-01         Clothing    961\n",
       "1 2024-09-02         Clothing    998\n",
       "2 2024-09-03         Clothing    689\n",
       "3 2024-09-04       Appliances    454\n",
       "4 2024-09-05       Appliances    508"
      ]
     },
     "execution_count": 24,
     "metadata": {},
     "output_type": "execute_result"
    }
   ],
   "source": [
    "merged_df = pd.concat(data, ignore_index=True)\n",
    "merged_df.head()"
   ]
  },
  {
   "cell_type": "markdown",
   "id": "3d9cf93b-b014-4f37-b893-173f72830c7c",
   "metadata": {
    "id": "3d9cf93b-b014-4f37-b893-173f72830c7c"
   },
   "source": [
    "### f) Normalization"
   ]
  },
  {
   "cell_type": "code",
   "execution_count": 26,
   "id": "b2464a15-f584-4644-b5f1-73822710f36e",
   "metadata": {
    "id": "b2464a15-f584-4644-b5f1-73822710f36e"
   },
   "outputs": [],
   "source": [
    "from sklearn.preprocessing import MinMaxScaler\n",
    "\n",
    "min_max_scaler = MinMaxScaler()\n",
    "merged_df['sales'] = min_max_scaler.fit_transform(merged_df[['sales']])"
   ]
  },
  {
   "cell_type": "code",
   "execution_count": 12,
   "id": "73eb4182-45d6-42d6-8400-752ae8ba1de7",
   "metadata": {
    "colab": {
     "base_uri": "https://localhost:8080/",
     "height": 206
    },
    "id": "73eb4182-45d6-42d6-8400-752ae8ba1de7",
    "outputId": "77b07572-8896-469d-fb2e-36d376741da3"
   },
   "outputs": [
    {
     "data": {
      "text/html": [
       "<div>\n",
       "<style scoped>\n",
       "    .dataframe tbody tr th:only-of-type {\n",
       "        vertical-align: middle;\n",
       "    }\n",
       "\n",
       "    .dataframe tbody tr th {\n",
       "        vertical-align: top;\n",
       "    }\n",
       "\n",
       "    .dataframe thead th {\n",
       "        text-align: right;\n",
       "    }\n",
       "</style>\n",
       "<table border=\"1\" class=\"dataframe\">\n",
       "  <thead>\n",
       "    <tr style=\"text-align: right;\">\n",
       "      <th></th>\n",
       "      <th>order_date</th>\n",
       "      <th>product_category</th>\n",
       "      <th>sales</th>\n",
       "    </tr>\n",
       "  </thead>\n",
       "  <tbody>\n",
       "    <tr>\n",
       "      <th>0</th>\n",
       "      <td>2024-09-01</td>\n",
       "      <td>Clothing</td>\n",
       "      <td>0.957731</td>\n",
       "    </tr>\n",
       "    <tr>\n",
       "      <th>1</th>\n",
       "      <td>2024-09-02</td>\n",
       "      <td>Clothing</td>\n",
       "      <td>0.998888</td>\n",
       "    </tr>\n",
       "    <tr>\n",
       "      <th>2</th>\n",
       "      <td>2024-09-03</td>\n",
       "      <td>Clothing</td>\n",
       "      <td>0.655172</td>\n",
       "    </tr>\n",
       "    <tr>\n",
       "      <th>3</th>\n",
       "      <td>2024-09-04</td>\n",
       "      <td>Appliances</td>\n",
       "      <td>0.393771</td>\n",
       "    </tr>\n",
       "    <tr>\n",
       "      <th>4</th>\n",
       "      <td>2024-09-05</td>\n",
       "      <td>Appliances</td>\n",
       "      <td>0.453838</td>\n",
       "    </tr>\n",
       "  </tbody>\n",
       "</table>\n",
       "</div>"
      ],
      "text/plain": [
       "  order_date product_category     sales\n",
       "0 2024-09-01         Clothing  0.957731\n",
       "1 2024-09-02         Clothing  0.998888\n",
       "2 2024-09-03         Clothing  0.655172\n",
       "3 2024-09-04       Appliances  0.393771\n",
       "4 2024-09-05       Appliances  0.453838"
      ]
     },
     "execution_count": 12,
     "metadata": {},
     "output_type": "execute_result"
    }
   ],
   "source": [
    "merged_df.head()"
   ]
  },
  {
   "cell_type": "markdown",
   "id": "24e393e7-dbf3-4132-b5e0-f8ad887994b5",
   "metadata": {
    "id": "24e393e7-dbf3-4132-b5e0-f8ad887994b5"
   },
   "source": [
    "## 3. Load"
   ]
  },
  {
   "cell_type": "markdown",
   "id": "415c38f5-0e03-4f2e-a84d-27d0259524e2",
   "metadata": {
    "id": "415c38f5-0e03-4f2e-a84d-27d0259524e2"
   },
   "source": [
    "> The data is ready to be inserted into data warehouses and further processing can be done on it."
   ]
  },
  {
   "cell_type": "markdown",
   "id": "5bdf6be5-53e2-4d20-aa1a-d9fcf6ace2c6",
   "metadata": {
    "id": "5bdf6be5-53e2-4d20-aa1a-d9fcf6ace2c6"
   },
   "source": [
    "## Visualization"
   ]
  },
  {
   "cell_type": "code",
   "execution_count": 16,
   "id": "8454b268-8b26-450c-860c-aeddf61cf62c",
   "metadata": {
    "colab": {
     "base_uri": "https://localhost:8080/",
     "height": 1000
    },
    "id": "8454b268-8b26-450c-860c-aeddf61cf62c",
    "outputId": "e2c01abb-bc46-40b0-930d-9f9736db664e"
   },
   "outputs": [
    {
     "data": {
      "image/png": "[encoded data removed]",
      "text/plain": [
       "<Figure size 1200x600 with 1 Axes>"
      ]
     },
     "metadata": {},
     "output_type": "display_data"
    },
    {
     "data": {
      "image/png": "[encoded data removed]",
      "text/plain": [
       "<Figure size 1200x600 with 1 Axes>"
      ]
     },
     "metadata": {},
     "output_type": "display_data"
    },
    {
     "data": {
      "image/png": "[encoded data removed]",
      "text/plain": [
       "<Figure size 1200x600 with 1 Axes>"
      ]
     },
     "metadata": {},
     "output_type": "display_data"
    }
   ],
   "source": [
    "import matplotlib.pyplot as plt\n",
    "\n",
    "categories = aggregate_data[0].index.to_list()\n",
    "\n",
    "def plot_aggreagate_data(df, categories, title):\n",
    "    plt.figure(figsize=(12, 6))\n",
    "    plt.bar(x=categories, height=df.values.ravel())\n",
    "    plt.title(title)  # Set the title here\n",
    "    plt.xlabel('Product')\n",
    "    plt.ylabel('Total Revenue')\n",
    "    plt.show() # Add plt.show() to display each plot individually\n",
    "\n",
    "# Modify the plotting loop to pass the title\n",
    "data_source_names = ['Oracle Data', 'SQL Data', 'Sales Data']\n",
    "for i, df in enumerate(aggregate_data):\n",
    "    plot_aggreagate_data(df, categories, f'Total Revenue by Product - {data_source_names[i]}')"
   ]
  },
  {
   "cell_type": "code",
   "execution_count": null,
   "id": "8c2rVMd_8vQl",
   "metadata": {
    "id": "8c2rVMd_8vQl"
   },
   "outputs": [],
   "source": []
  }
 ],
 "metadata": {
  "colab": {
   "provenance": []
  },
  "kernelspec": {
   "display_name": "Python 3 (ipykernel)",
   "language": "python",
   "name": "python3"
  },
  "language_info": {
   "codemirror_mode": {
    "name": "ipython",
    "version": 3
   },
   "file_extension": ".py",
   "mimetype": "text/x-python",
   "name": "python",
   "nbconvert_exporter": "python",
   "pygments_lexer": "ipython3",
   "version": "3.12.2"
  }
 },
 "nbformat": 4,
 "nbformat_minor": 5
}
